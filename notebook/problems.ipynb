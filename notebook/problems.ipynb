{
 "cells": [
  {
   "cell_type": "markdown",
   "id": "a41f3622",
   "metadata": {},
   "source": [
    "# Probability exercises"
   ]
  },
  {
   "cell_type": "markdown",
   "id": "a6bdbd89",
   "metadata": {},
   "source": [
    "## Exercise 1 \n",
    "\n",
    "Two dices are thrown once and the total score is observed. Use a simulation to find the estimated probability that the total score is even or greater than 7.  A simulation is a repetition of the same experiment multiple times to observe its behavior:\n",
    "\n",
    "- Run the experiment 1000 times (roll 2 dice 1000 times, and sum the number of both dices).\n",
    "- Keep track of the number of times that the sum was either greater than 7 or an even number.\n",
    "- Divide the number from step 2 by the number of iterations (1000)."
   ]
  },
  {
   "cell_type": "code",
   "execution_count": 1,
   "id": "8939d892",
   "metadata": {},
   "outputs": [
    {
     "name": "stdout",
     "output_type": "stream",
     "text": [
      "Estimated probability (after 1000 simulations): 69.10%\n"
     ]
    }
   ],
   "source": [
    "import random\n",
    "\n",
    "def simulate_dice_rolls(num_simulations=1000):\n",
    " \n",
    "    favorable_outcomes = 0\n",
    "\n",
    "    for _ in range(num_simulations):\n",
    "        # Roll two dice (each die has 6 faces, 1 to 6)\n",
    "        die1 = random.randint(1, 6)\n",
    "        die2 = random.randint(1, 6)\n",
    "        total_score = die1 + die2\n",
    "\n",
    "        # Check if the total score meets the conditions: even OR greater than 7\n",
    "        is_even = (total_score % 2 == 0)\n",
    "        is_greater_than_7 = (total_score > 7)\n",
    "\n",
    "        if is_even or is_greater_than_7:\n",
    "            favorable_outcomes += 1\n",
    "\n",
    "    # Calculate the estimated probability\n",
    "    estimated_probability = favorable_outcomes / num_simulations\n",
    "    return estimated_probability\n",
    "\n",
    "# Number of times to run the simulation\n",
    "num_simulations = 1000\n",
    "\n",
    "# Run the simulation and get the estimated probability\n",
    "probability = simulate_dice_rolls(num_simulations)\n",
    "\n",
    "# Print the result\n",
    "print(f\"Estimated probability (after {num_simulations} simulations): {probability*100:.2f}%\")"
   ]
  },
  {
   "cell_type": "markdown",
   "id": "55732bca",
   "metadata": {},
   "source": [
    "## Exercise 2\n",
    "\n",
    "A box contains 10 white balls, 20 red balls and 30 green balls. If we take 5 balls from the box with replacement (we take the ball, observe what color it is and put it back into the box). We want to know the probability of:\n",
    "\n",
    "1. Take 3 white and 2 red.\n",
    "2. Take all of the same color.\n",
    "\n",
    "Run the experiment 1000 times and calculate the above probabilities."
   ]
  },
  {
   "cell_type": "code",
   "execution_count": 2,
   "id": "23244d20",
   "metadata": {},
   "outputs": [
    {
     "name": "stdout",
     "output_type": "stream",
     "text": [
      "Total balls in box: 60 (10 White, 20 Red, 30 Green)\n",
      "Number of experiments: 1000\n",
      "Number of balls taken per experiment: 5\n",
      "\n",
      "--- Simulation Results ---\n",
      "1. Estimated probability of taking 3 white and 2 red: 0.50%\n",
      "2. Estimated probability of taking all of the same color: 3.60%\n"
     ]
    }
   ],
   "source": [
    "import random\n",
    "from collections import Counter\n",
    "\n",
    "# Define the contents of the box\n",
    "num_white = 10\n",
    "num_red = 20\n",
    "num_green = 30\n",
    "total_balls = num_white + num_red + num_green\n",
    "\n",
    "# Create a list representing the balls in the box for easy sampling\n",
    "ball_box_list = ['White'] * num_white + \\\n",
    "                ['Red'] * num_red + \\\n",
    "                ['Green'] * num_green\n",
    "\n",
    "# Simulation parameters\n",
    "num_experiments = 1000\n",
    "num_balls_to_take = 5\n",
    "\n",
    "# Counters for favorable outcomes\n",
    "count_3_white_2_red = 0\n",
    "count_all_same_color = 0\n",
    "\n",
    "# Run the simulation\n",
    "for _ in range(num_experiments):\n",
    "    drawn_balls = []\n",
    "    for _ in range(num_balls_to_take):\n",
    "        # Draw a ball with replacement\n",
    "        drawn_balls.append(random.choice(ball_box_list))\n",
    "\n",
    "    # Count the colors of the drawn balls\n",
    "    color_counts = Counter(drawn_balls)\n",
    "    \n",
    "    # Condition 1: Take 3 white and 2 red\n",
    "    if color_counts['White'] == 3 and color_counts['Red'] == 2 and color_counts['Green'] == 0:\n",
    "        count_3_white_2_red += 1\n",
    "        \n",
    "    # Condition 2: Take all of the same color\n",
    "    if (color_counts['White'] == num_balls_to_take) or \\\n",
    "       (color_counts['Red'] == num_balls_to_take) or \\\n",
    "       (color_counts['Green'] == num_balls_to_take):\n",
    "        count_all_same_color += 1\n",
    "\n",
    "# Calculate probabilities\n",
    "prob_3_white_2_red = count_3_white_2_red / num_experiments\n",
    "prob_all_same_color = count_all_same_color / num_experiments\n",
    "\n",
    "print(f\"Total balls in box: {total_balls} (10 White, 20 Red, 30 Green)\")\n",
    "print(f\"Number of experiments: {num_experiments}\")\n",
    "print(f\"Number of balls taken per experiment: {num_balls_to_take}\")\n",
    "print(\"\\n--- Simulation Results ---\")\n",
    "print(f\"1. Estimated probability of taking 3 white and 2 red: {prob_3_white_2_red*100:.2f}%\")\n",
    "print(f\"2. Estimated probability of taking all of the same color: {prob_all_same_color*100:.2f}%\")"
   ]
  }
 ],
 "metadata": {
  "kernelspec": {
   "display_name": "Python 3",
   "language": "python",
   "name": "python3"
  },
  "language_info": {
   "codemirror_mode": {
    "name": "ipython",
    "version": 3
   },
   "file_extension": ".py",
   "mimetype": "text/x-python",
   "name": "python",
   "nbconvert_exporter": "python",
   "pygments_lexer": "ipython3",
   "version": "3.11.4"
  }
 },
 "nbformat": 4,
 "nbformat_minor": 5
}
